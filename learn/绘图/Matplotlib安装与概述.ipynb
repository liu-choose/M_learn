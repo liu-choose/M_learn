{
 "cells": [
  {
   "cell_type": "code",
   "execution_count": 1,
   "metadata": {},
   "outputs": [],
   "source": [
    "import matplotlib.pyplot as plt\n",
    "import numpy as np\n",
    "import pandas as pd"
   ]
  },
  {
   "cell_type": "code",
   "execution_count": 2,
   "metadata": {},
   "outputs": [],
   "source": [
    "a = np.random.randint(1,5,100).reshape(-1,2)\n",
    "np.savetxt('test/a.txt',a)"
   ]
  },
  {
   "cell_type": "code",
   "execution_count": 3,
   "metadata": {},
   "outputs": [],
   "source": [
    "b = np.random.randint(5,8,100).reshape(-1,2)\n",
    "np.savetxt('test/b.txt',b)"
   ]
  },
  {
   "cell_type": "code",
   "execution_count": 4,
   "metadata": {},
   "outputs": [
    {
     "data": {
      "text/plain": [
       "array([[4., 2.],\n",
       "       [1., 3.],\n",
       "       [2., 4.],\n",
       "       [4., 1.],\n",
       "       [3., 2.],\n",
       "       [3., 2.],\n",
       "       [1., 3.],\n",
       "       [4., 3.],\n",
       "       [3., 2.],\n",
       "       [2., 3.],\n",
       "       [4., 2.],\n",
       "       [2., 1.],\n",
       "       [1., 4.],\n",
       "       [3., 2.],\n",
       "       [3., 1.],\n",
       "       [1., 1.],\n",
       "       [4., 2.],\n",
       "       [3., 2.],\n",
       "       [4., 3.],\n",
       "       [1., 4.],\n",
       "       [3., 1.],\n",
       "       [2., 1.],\n",
       "       [2., 2.],\n",
       "       [1., 4.],\n",
       "       [4., 1.],\n",
       "       [4., 2.],\n",
       "       [4., 2.],\n",
       "       [4., 2.],\n",
       "       [3., 1.],\n",
       "       [3., 1.],\n",
       "       [1., 1.],\n",
       "       [4., 2.],\n",
       "       [1., 4.],\n",
       "       [1., 3.],\n",
       "       [1., 2.],\n",
       "       [3., 3.],\n",
       "       [4., 1.],\n",
       "       [3., 2.],\n",
       "       [2., 4.],\n",
       "       [3., 2.],\n",
       "       [4., 1.],\n",
       "       [1., 1.],\n",
       "       [2., 1.],\n",
       "       [2., 4.],\n",
       "       [4., 2.],\n",
       "       [4., 4.],\n",
       "       [1., 4.],\n",
       "       [3., 4.],\n",
       "       [4., 4.],\n",
       "       [2., 3.]])"
      ]
     },
     "execution_count": 4,
     "metadata": {},
     "output_type": "execute_result"
    }
   ],
   "source": [
    "a = np.loadtxt('test/a.txt')\n",
    "a"
   ]
  },
  {
   "cell_type": "code",
   "execution_count": 5,
   "metadata": {},
   "outputs": [
    {
     "data": {
      "text/plain": [
       "array([[7., 7.],\n",
       "       [6., 7.],\n",
       "       [7., 6.],\n",
       "       [7., 5.],\n",
       "       [6., 7.],\n",
       "       [7., 6.],\n",
       "       [5., 5.],\n",
       "       [5., 7.],\n",
       "       [6., 6.],\n",
       "       [5., 5.],\n",
       "       [5., 7.],\n",
       "       [7., 5.],\n",
       "       [7., 6.],\n",
       "       [5., 5.],\n",
       "       [7., 7.],\n",
       "       [5., 6.],\n",
       "       [5., 6.],\n",
       "       [6., 7.],\n",
       "       [7., 5.],\n",
       "       [5., 6.],\n",
       "       [5., 7.],\n",
       "       [7., 6.],\n",
       "       [6., 5.],\n",
       "       [5., 5.],\n",
       "       [5., 5.],\n",
       "       [7., 6.],\n",
       "       [5., 5.],\n",
       "       [7., 5.],\n",
       "       [7., 6.],\n",
       "       [5., 6.],\n",
       "       [7., 5.],\n",
       "       [5., 6.],\n",
       "       [6., 7.],\n",
       "       [5., 7.],\n",
       "       [5., 5.],\n",
       "       [5., 6.],\n",
       "       [5., 5.],\n",
       "       [7., 7.],\n",
       "       [6., 7.],\n",
       "       [7., 5.],\n",
       "       [6., 6.],\n",
       "       [5., 5.],\n",
       "       [6., 6.],\n",
       "       [6., 7.],\n",
       "       [7., 6.],\n",
       "       [7., 5.],\n",
       "       [6., 6.],\n",
       "       [5., 5.],\n",
       "       [7., 5.],\n",
       "       [6., 5.]])"
      ]
     },
     "execution_count": 5,
     "metadata": {},
     "output_type": "execute_result"
    }
   ],
   "source": [
    "b = np.loadtxt('test/b.txt')\n",
    "b"
   ]
  },
  {
   "cell_type": "code",
   "execution_count": 6,
   "metadata": {},
   "outputs": [
    {
     "data": {
      "image/png": "[encoded data removed]",
      "text/plain": [
       "<Figure size 432x288 with 1 Axes>"
      ]
     },
     "metadata": {
      "needs_background": "light"
     },
     "output_type": "display_data"
    }
   ],
   "source": [
    "plt.scatter(a[:,0],a[:,1])\n",
    "plt.scatter(b[:,0],b[:,1])\n",
    "plt.show()"
   ]
  },
  {
   "cell_type": "code",
   "execution_count": null,
   "metadata": {},
   "outputs": [],
   "source": []
  },
  {
   "cell_type": "code",
   "execution_count": null,
   "metadata": {},
   "outputs": [],
   "source": []
  }
 ],
 "metadata": {
  "kernelspec": {
   "display_name": "Python 3",
   "language": "python",
   "name": "python3"
  },
  "language_info": {
   "codemirror_mode": {
    "name": "ipython",
    "version": 3
   },
   "file_extension": ".py",
   "mimetype": "text/x-python",
   "name": "python",
   "nbconvert_exporter": "python",
   "pygments_lexer": "ipython3",
   "version": "3.7.2rc1"
  }
 },
 "nbformat": 4,
 "nbformat_minor": 2
}
