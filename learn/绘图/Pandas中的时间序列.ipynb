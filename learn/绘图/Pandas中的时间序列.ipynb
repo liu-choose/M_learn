{
 "cells": [
  {
   "cell_type": "code",
   "execution_count": 1,
   "metadata": {},
   "outputs": [],
   "source": [
    "import time"
   ]
  },
  {
   "cell_type": "code",
   "execution_count": 2,
   "metadata": {},
   "outputs": [
    {
     "data": {
      "text/plain": [
       "1551517032.0135868"
      ]
     },
     "execution_count": 2,
     "metadata": {},
     "output_type": "execute_result"
    }
   ],
   "source": [
    "time.time()"
   ]
  },
  {
   "cell_type": "code",
   "execution_count": 3,
   "metadata": {},
   "outputs": [
    {
     "data": {
      "text/plain": [
       "time.struct_time(tm_year=2019, tm_mon=3, tm_mday=2, tm_hour=16, tm_min=57, tm_sec=12, tm_wday=5, tm_yday=61, tm_isdst=0)"
      ]
     },
     "execution_count": 3,
     "metadata": {},
     "output_type": "execute_result"
    }
   ],
   "source": [
    "time.localtime()"
   ]
  },
  {
   "cell_type": "code",
   "execution_count": 4,
   "metadata": {},
   "outputs": [
    {
     "data": {
      "text/plain": [
       "'2019-03-02 16:57:12'"
      ]
     },
     "execution_count": 4,
     "metadata": {},
     "output_type": "execute_result"
    }
   ],
   "source": [
    "time.strftime(\"%Y-%m-%d %H:%M:%S\",time.localtime())"
   ]
  },
  {
   "cell_type": "code",
   "execution_count": 5,
   "metadata": {},
   "outputs": [
    {
     "data": {
      "text/plain": [
       "time.struct_time(tm_year=2019, tm_mon=3, tm_mday=2, tm_hour=11, tm_min=34, tm_sec=0, tm_wday=5, tm_yday=61, tm_isdst=-1)"
      ]
     },
     "execution_count": 5,
     "metadata": {},
     "output_type": "execute_result"
    }
   ],
   "source": [
    "local = time.strptime('2019-03-02 11:34','%Y-%m-%d %H:%M')\n",
    "local"
   ]
  },
  {
   "cell_type": "code",
   "execution_count": 6,
   "metadata": {},
   "outputs": [
    {
     "data": {
      "text/plain": [
       "1551497640.0"
      ]
     },
     "execution_count": 6,
     "metadata": {},
     "output_type": "execute_result"
    }
   ],
   "source": [
    "time.mktime(local)"
   ]
  },
  {
   "cell_type": "code",
   "execution_count": 7,
   "metadata": {},
   "outputs": [],
   "source": [
    "from datetime import datetime"
   ]
  },
  {
   "cell_type": "code",
   "execution_count": 8,
   "metadata": {},
   "outputs": [
    {
     "data": {
      "text/plain": [
       "datetime.datetime(2019, 3, 2, 16, 57, 12, 64469)"
      ]
     },
     "execution_count": 8,
     "metadata": {},
     "output_type": "execute_result"
    }
   ],
   "source": [
    "now = datetime.now()\n",
    "now"
   ]
  },
  {
   "cell_type": "code",
   "execution_count": 9,
   "metadata": {},
   "outputs": [
    {
     "data": {
      "text/plain": [
       "(2019, 3, 2, 16)"
      ]
     },
     "execution_count": 9,
     "metadata": {},
     "output_type": "execute_result"
    }
   ],
   "source": [
    "now.year,now.month,now.day,now.hour"
   ]
  },
  {
   "cell_type": "code",
   "execution_count": 10,
   "metadata": {},
   "outputs": [
    {
     "data": {
      "text/plain": [
       "'2019-03-02 16:57:12'"
      ]
     },
     "execution_count": 10,
     "metadata": {},
     "output_type": "execute_result"
    }
   ],
   "source": [
    "now.strftime(\"%Y-%m-%d %H:%M:%S\")"
   ]
  },
  {
   "cell_type": "code",
   "execution_count": 11,
   "metadata": {},
   "outputs": [
    {
     "data": {
      "text/plain": [
       "datetime.datetime(2019, 3, 2, 11, 52, 11)"
      ]
     },
     "execution_count": 11,
     "metadata": {},
     "output_type": "execute_result"
    }
   ],
   "source": [
    "datetime.strptime('2019-03-02 11:52:11',\"%Y-%m-%d %H:%M:%S\")"
   ]
  },
  {
   "cell_type": "code",
   "execution_count": 12,
   "metadata": {},
   "outputs": [
    {
     "data": {
      "text/plain": [
       "datetime.datetime(2019, 3, 2, 0, 0)"
      ]
     },
     "execution_count": 12,
     "metadata": {},
     "output_type": "execute_result"
    }
   ],
   "source": [
    "datetime(2019,3,2)"
   ]
  },
  {
   "cell_type": "code",
   "execution_count": 13,
   "metadata": {},
   "outputs": [
    {
     "data": {
      "text/plain": [
       "datetime.datetime(2019, 3, 2, 11, 24, 12)"
      ]
     },
     "execution_count": 13,
     "metadata": {},
     "output_type": "execute_result"
    }
   ],
   "source": [
    "datetime.fromtimestamp(1551497052)"
   ]
  },
  {
   "cell_type": "code",
   "execution_count": 14,
   "metadata": {},
   "outputs": [
    {
     "data": {
      "text/plain": [
       "1551517032.064469"
      ]
     },
     "execution_count": 14,
     "metadata": {},
     "output_type": "execute_result"
    }
   ],
   "source": [
    "now.timestamp()"
   ]
  },
  {
   "cell_type": "code",
   "execution_count": 15,
   "metadata": {},
   "outputs": [
    {
     "data": {
      "text/plain": [
       "datetime.timedelta(days=1, seconds=61032, microseconds=115316)"
      ]
     },
     "execution_count": 15,
     "metadata": {},
     "output_type": "execute_result"
    }
   ],
   "source": [
    "delta =datetime.now() - datetime(2019,3,1)\n",
    "delta"
   ]
  },
  {
   "cell_type": "code",
   "execution_count": 16,
   "metadata": {},
   "outputs": [
    {
     "data": {
      "text/plain": [
       "1"
      ]
     },
     "execution_count": 16,
     "metadata": {},
     "output_type": "execute_result"
    }
   ],
   "source": [
    "delta.days"
   ]
  },
  {
   "cell_type": "code",
   "execution_count": 17,
   "metadata": {},
   "outputs": [
    {
     "data": {
      "text/plain": [
       "61032"
      ]
     },
     "execution_count": 17,
     "metadata": {},
     "output_type": "execute_result"
    }
   ],
   "source": [
    "delta.seconds"
   ]
  },
  {
   "cell_type": "code",
   "execution_count": 18,
   "metadata": {},
   "outputs": [],
   "source": [
    "import numpy as np\n",
    "import pandas as pd"
   ]
  },
  {
   "cell_type": "code",
   "execution_count": 19,
   "metadata": {},
   "outputs": [
    {
     "data": {
      "text/plain": [
       "DatetimeIndex(['2018-06-30', '2018-09-30', '2018-12-31', '2019-03-31',\n",
       "               '2019-06-30', '2019-09-30', '2019-12-31', '2020-03-31',\n",
       "               '2020-06-30', '2020-09-30'],\n",
       "              dtype='datetime64[ns]', freq='Q-DEC')"
      ]
     },
     "execution_count": 19,
     "metadata": {},
     "output_type": "execute_result"
    }
   ],
   "source": [
    "pd.date_range('2018-5-1',freq='Q',periods=10)"
   ]
  },
  {
   "cell_type": "code",
   "execution_count": 20,
   "metadata": {},
   "outputs": [
    {
     "data": {
      "text/html": [
       "<div>\n",
       "<style scoped>\n",
       "    .dataframe tbody tr th:only-of-type {\n",
       "        vertical-align: middle;\n",
       "    }\n",
       "\n",
       "    .dataframe tbody tr th {\n",
       "        vertical-align: top;\n",
       "    }\n",
       "\n",
       "    .dataframe thead th {\n",
       "        text-align: right;\n",
       "    }\n",
       "</style>\n",
       "<table border=\"1\" class=\"dataframe\">\n",
       "  <thead>\n",
       "    <tr style=\"text-align: right;\">\n",
       "      <th></th>\n",
       "      <th>time</th>\n",
       "      <th>cpu</th>\n",
       "    </tr>\n",
       "  </thead>\n",
       "  <tbody>\n",
       "    <tr>\n",
       "      <th>0</th>\n",
       "      <td>2018-06-01 00:00:00</td>\n",
       "      <td>9.017956</td>\n",
       "    </tr>\n",
       "    <tr>\n",
       "      <th>1</th>\n",
       "      <td>2018-06-01 00:01:00</td>\n",
       "      <td>10.488462</td>\n",
       "    </tr>\n",
       "    <tr>\n",
       "      <th>2</th>\n",
       "      <td>2018-06-01 00:02:00</td>\n",
       "      <td>8.720478</td>\n",
       "    </tr>\n",
       "    <tr>\n",
       "      <th>3</th>\n",
       "      <td>2018-06-01 00:03:00</td>\n",
       "      <td>7.812511</td>\n",
       "    </tr>\n",
       "    <tr>\n",
       "      <th>4</th>\n",
       "      <td>2018-06-01 00:04:00</td>\n",
       "      <td>9.157938</td>\n",
       "    </tr>\n",
       "    <tr>\n",
       "      <th>5</th>\n",
       "      <td>2018-06-01 00:05:00</td>\n",
       "      <td>9.123389</td>\n",
       "    </tr>\n",
       "    <tr>\n",
       "      <th>6</th>\n",
       "      <td>2018-06-01 00:06:00</td>\n",
       "      <td>10.641883</td>\n",
       "    </tr>\n",
       "    <tr>\n",
       "      <th>7</th>\n",
       "      <td>2018-06-01 00:07:00</td>\n",
       "      <td>7.882068</td>\n",
       "    </tr>\n",
       "    <tr>\n",
       "      <th>8</th>\n",
       "      <td>2018-06-01 00:08:00</td>\n",
       "      <td>10.391966</td>\n",
       "    </tr>\n",
       "    <tr>\n",
       "      <th>9</th>\n",
       "      <td>2018-06-01 00:09:00</td>\n",
       "      <td>9.029319</td>\n",
       "    </tr>\n",
       "    <tr>\n",
       "      <th>10</th>\n",
       "      <td>2018-06-01 00:10:00</td>\n",
       "      <td>9.508464</td>\n",
       "    </tr>\n",
       "    <tr>\n",
       "      <th>11</th>\n",
       "      <td>2018-06-01 00:11:00</td>\n",
       "      <td>10.943509</td>\n",
       "    </tr>\n",
       "    <tr>\n",
       "      <th>12</th>\n",
       "      <td>2018-06-01 00:12:00</td>\n",
       "      <td>8.698730</td>\n",
       "    </tr>\n",
       "    <tr>\n",
       "      <th>13</th>\n",
       "      <td>2018-06-01 00:13:00</td>\n",
       "      <td>9.995280</td>\n",
       "    </tr>\n",
       "    <tr>\n",
       "      <th>14</th>\n",
       "      <td>2018-06-01 00:14:00</td>\n",
       "      <td>9.821647</td>\n",
       "    </tr>\n",
       "    <tr>\n",
       "      <th>15</th>\n",
       "      <td>2018-06-01 00:15:00</td>\n",
       "      <td>11.958824</td>\n",
       "    </tr>\n",
       "    <tr>\n",
       "      <th>16</th>\n",
       "      <td>2018-06-01 00:16:00</td>\n",
       "      <td>9.505927</td>\n",
       "    </tr>\n",
       "    <tr>\n",
       "      <th>17</th>\n",
       "      <td>2018-06-01 00:17:00</td>\n",
       "      <td>11.289635</td>\n",
       "    </tr>\n",
       "    <tr>\n",
       "      <th>18</th>\n",
       "      <td>2018-06-01 00:18:00</td>\n",
       "      <td>10.020114</td>\n",
       "    </tr>\n",
       "    <tr>\n",
       "      <th>19</th>\n",
       "      <td>2018-06-01 00:19:00</td>\n",
       "      <td>11.345817</td>\n",
       "    </tr>\n",
       "    <tr>\n",
       "      <th>20</th>\n",
       "      <td>2018-06-01 00:20:00</td>\n",
       "      <td>9.315539</td>\n",
       "    </tr>\n",
       "    <tr>\n",
       "      <th>21</th>\n",
       "      <td>2018-06-01 00:21:00</td>\n",
       "      <td>11.017100</td>\n",
       "    </tr>\n",
       "    <tr>\n",
       "      <th>22</th>\n",
       "      <td>2018-06-01 00:22:00</td>\n",
       "      <td>9.441069</td>\n",
       "    </tr>\n",
       "    <tr>\n",
       "      <th>23</th>\n",
       "      <td>2018-06-01 00:23:00</td>\n",
       "      <td>8.751216</td>\n",
       "    </tr>\n",
       "    <tr>\n",
       "      <th>24</th>\n",
       "      <td>2018-06-01 00:24:00</td>\n",
       "      <td>9.581376</td>\n",
       "    </tr>\n",
       "    <tr>\n",
       "      <th>25</th>\n",
       "      <td>2018-06-01 00:25:00</td>\n",
       "      <td>9.642999</td>\n",
       "    </tr>\n",
       "    <tr>\n",
       "      <th>26</th>\n",
       "      <td>2018-06-01 00:26:00</td>\n",
       "      <td>10.812106</td>\n",
       "    </tr>\n",
       "    <tr>\n",
       "      <th>27</th>\n",
       "      <td>2018-06-01 00:27:00</td>\n",
       "      <td>11.058658</td>\n",
       "    </tr>\n",
       "    <tr>\n",
       "      <th>28</th>\n",
       "      <td>2018-06-01 00:28:00</td>\n",
       "      <td>9.811801</td>\n",
       "    </tr>\n",
       "    <tr>\n",
       "      <th>29</th>\n",
       "      <td>2018-06-01 00:29:00</td>\n",
       "      <td>10.636108</td>\n",
       "    </tr>\n",
       "    <tr>\n",
       "      <th>...</th>\n",
       "      <td>...</td>\n",
       "      <td>...</td>\n",
       "    </tr>\n",
       "    <tr>\n",
       "      <th>199970</th>\n",
       "      <td>2018-10-17 20:50:00</td>\n",
       "      <td>9.505406</td>\n",
       "    </tr>\n",
       "    <tr>\n",
       "      <th>199971</th>\n",
       "      <td>2018-10-17 20:51:00</td>\n",
       "      <td>8.527731</td>\n",
       "    </tr>\n",
       "    <tr>\n",
       "      <th>199972</th>\n",
       "      <td>2018-10-17 20:52:00</td>\n",
       "      <td>9.682773</td>\n",
       "    </tr>\n",
       "    <tr>\n",
       "      <th>199973</th>\n",
       "      <td>2018-10-17 20:53:00</td>\n",
       "      <td>8.122983</td>\n",
       "    </tr>\n",
       "    <tr>\n",
       "      <th>199974</th>\n",
       "      <td>2018-10-17 20:54:00</td>\n",
       "      <td>8.873290</td>\n",
       "    </tr>\n",
       "    <tr>\n",
       "      <th>199975</th>\n",
       "      <td>2018-10-17 20:55:00</td>\n",
       "      <td>9.964403</td>\n",
       "    </tr>\n",
       "    <tr>\n",
       "      <th>199976</th>\n",
       "      <td>2018-10-17 20:56:00</td>\n",
       "      <td>9.230458</td>\n",
       "    </tr>\n",
       "    <tr>\n",
       "      <th>199977</th>\n",
       "      <td>2018-10-17 20:57:00</td>\n",
       "      <td>9.344811</td>\n",
       "    </tr>\n",
       "    <tr>\n",
       "      <th>199978</th>\n",
       "      <td>2018-10-17 20:58:00</td>\n",
       "      <td>11.306782</td>\n",
       "    </tr>\n",
       "    <tr>\n",
       "      <th>199979</th>\n",
       "      <td>2018-10-17 20:59:00</td>\n",
       "      <td>11.079501</td>\n",
       "    </tr>\n",
       "    <tr>\n",
       "      <th>199980</th>\n",
       "      <td>2018-10-17 21:00:00</td>\n",
       "      <td>11.071666</td>\n",
       "    </tr>\n",
       "    <tr>\n",
       "      <th>199981</th>\n",
       "      <td>2018-10-17 21:01:00</td>\n",
       "      <td>9.031022</td>\n",
       "    </tr>\n",
       "    <tr>\n",
       "      <th>199982</th>\n",
       "      <td>2018-10-17 21:02:00</td>\n",
       "      <td>9.758162</td>\n",
       "    </tr>\n",
       "    <tr>\n",
       "      <th>199983</th>\n",
       "      <td>2018-10-17 21:03:00</td>\n",
       "      <td>9.949155</td>\n",
       "    </tr>\n",
       "    <tr>\n",
       "      <th>199984</th>\n",
       "      <td>2018-10-17 21:04:00</td>\n",
       "      <td>10.131487</td>\n",
       "    </tr>\n",
       "    <tr>\n",
       "      <th>199985</th>\n",
       "      <td>2018-10-17 21:05:00</td>\n",
       "      <td>9.373706</td>\n",
       "    </tr>\n",
       "    <tr>\n",
       "      <th>199986</th>\n",
       "      <td>2018-10-17 21:06:00</td>\n",
       "      <td>10.366434</td>\n",
       "    </tr>\n",
       "    <tr>\n",
       "      <th>199987</th>\n",
       "      <td>2018-10-17 21:07:00</td>\n",
       "      <td>8.812062</td>\n",
       "    </tr>\n",
       "    <tr>\n",
       "      <th>199988</th>\n",
       "      <td>2018-10-17 21:08:00</td>\n",
       "      <td>11.300958</td>\n",
       "    </tr>\n",
       "    <tr>\n",
       "      <th>199989</th>\n",
       "      <td>2018-10-17 21:09:00</td>\n",
       "      <td>9.398220</td>\n",
       "    </tr>\n",
       "    <tr>\n",
       "      <th>199990</th>\n",
       "      <td>2018-10-17 21:10:00</td>\n",
       "      <td>9.805803</td>\n",
       "    </tr>\n",
       "    <tr>\n",
       "      <th>199991</th>\n",
       "      <td>2018-10-17 21:11:00</td>\n",
       "      <td>9.247477</td>\n",
       "    </tr>\n",
       "    <tr>\n",
       "      <th>199992</th>\n",
       "      <td>2018-10-17 21:12:00</td>\n",
       "      <td>8.421270</td>\n",
       "    </tr>\n",
       "    <tr>\n",
       "      <th>199993</th>\n",
       "      <td>2018-10-17 21:13:00</td>\n",
       "      <td>9.090494</td>\n",
       "    </tr>\n",
       "    <tr>\n",
       "      <th>199994</th>\n",
       "      <td>2018-10-17 21:14:00</td>\n",
       "      <td>11.104370</td>\n",
       "    </tr>\n",
       "    <tr>\n",
       "      <th>199995</th>\n",
       "      <td>2018-10-17 21:15:00</td>\n",
       "      <td>10.592498</td>\n",
       "    </tr>\n",
       "    <tr>\n",
       "      <th>199996</th>\n",
       "      <td>2018-10-17 21:16:00</td>\n",
       "      <td>9.903969</td>\n",
       "    </tr>\n",
       "    <tr>\n",
       "      <th>199997</th>\n",
       "      <td>2018-10-17 21:17:00</td>\n",
       "      <td>13.088288</td>\n",
       "    </tr>\n",
       "    <tr>\n",
       "      <th>199998</th>\n",
       "      <td>2018-10-17 21:18:00</td>\n",
       "      <td>10.944337</td>\n",
       "    </tr>\n",
       "    <tr>\n",
       "      <th>199999</th>\n",
       "      <td>2018-10-17 21:19:00</td>\n",
       "      <td>10.897731</td>\n",
       "    </tr>\n",
       "  </tbody>\n",
       "</table>\n",
       "<p>200000 rows × 2 columns</p>\n",
       "</div>"
      ],
      "text/plain": [
       "                      time        cpu\n",
       "0      2018-06-01 00:00:00   9.017956\n",
       "1      2018-06-01 00:01:00  10.488462\n",
       "2      2018-06-01 00:02:00   8.720478\n",
       "3      2018-06-01 00:03:00   7.812511\n",
       "4      2018-06-01 00:04:00   9.157938\n",
       "5      2018-06-01 00:05:00   9.123389\n",
       "6      2018-06-01 00:06:00  10.641883\n",
       "7      2018-06-01 00:07:00   7.882068\n",
       "8      2018-06-01 00:08:00  10.391966\n",
       "9      2018-06-01 00:09:00   9.029319\n",
       "10     2018-06-01 00:10:00   9.508464\n",
       "11     2018-06-01 00:11:00  10.943509\n",
       "12     2018-06-01 00:12:00   8.698730\n",
       "13     2018-06-01 00:13:00   9.995280\n",
       "14     2018-06-01 00:14:00   9.821647\n",
       "15     2018-06-01 00:15:00  11.958824\n",
       "16     2018-06-01 00:16:00   9.505927\n",
       "17     2018-06-01 00:17:00  11.289635\n",
       "18     2018-06-01 00:18:00  10.020114\n",
       "19     2018-06-01 00:19:00  11.345817\n",
       "20     2018-06-01 00:20:00   9.315539\n",
       "21     2018-06-01 00:21:00  11.017100\n",
       "22     2018-06-01 00:22:00   9.441069\n",
       "23     2018-06-01 00:23:00   8.751216\n",
       "24     2018-06-01 00:24:00   9.581376\n",
       "25     2018-06-01 00:25:00   9.642999\n",
       "26     2018-06-01 00:26:00  10.812106\n",
       "27     2018-06-01 00:27:00  11.058658\n",
       "28     2018-06-01 00:28:00   9.811801\n",
       "29     2018-06-01 00:29:00  10.636108\n",
       "...                    ...        ...\n",
       "199970 2018-10-17 20:50:00   9.505406\n",
       "199971 2018-10-17 20:51:00   8.527731\n",
       "199972 2018-10-17 20:52:00   9.682773\n",
       "199973 2018-10-17 20:53:00   8.122983\n",
       "199974 2018-10-17 20:54:00   8.873290\n",
       "199975 2018-10-17 20:55:00   9.964403\n",
       "199976 2018-10-17 20:56:00   9.230458\n",
       "199977 2018-10-17 20:57:00   9.344811\n",
       "199978 2018-10-17 20:58:00  11.306782\n",
       "199979 2018-10-17 20:59:00  11.079501\n",
       "199980 2018-10-17 21:00:00  11.071666\n",
       "199981 2018-10-17 21:01:00   9.031022\n",
       "199982 2018-10-17 21:02:00   9.758162\n",
       "199983 2018-10-17 21:03:00   9.949155\n",
       "199984 2018-10-17 21:04:00  10.131487\n",
       "199985 2018-10-17 21:05:00   9.373706\n",
       "199986 2018-10-17 21:06:00  10.366434\n",
       "199987 2018-10-17 21:07:00   8.812062\n",
       "199988 2018-10-17 21:08:00  11.300958\n",
       "199989 2018-10-17 21:09:00   9.398220\n",
       "199990 2018-10-17 21:10:00   9.805803\n",
       "199991 2018-10-17 21:11:00   9.247477\n",
       "199992 2018-10-17 21:12:00   8.421270\n",
       "199993 2018-10-17 21:13:00   9.090494\n",
       "199994 2018-10-17 21:14:00  11.104370\n",
       "199995 2018-10-17 21:15:00  10.592498\n",
       "199996 2018-10-17 21:16:00   9.903969\n",
       "199997 2018-10-17 21:17:00  13.088288\n",
       "199998 2018-10-17 21:18:00  10.944337\n",
       "199999 2018-10-17 21:19:00  10.897731\n",
       "\n",
       "[200000 rows x 2 columns]"
      ]
     },
     "execution_count": 20,
     "metadata": {},
     "output_type": "execute_result"
    }
   ],
   "source": [
    "data = {\n",
    "    'time':pd.date_range('2018-6-1',periods=200000,freq='T'),\n",
    "    'cpu':np.random.randn(200000)+10\n",
    "}\n",
    "df = pd.DataFrame(data,columns=['time','cpu'])\n",
    "df"
   ]
  },
  {
   "cell_type": "code",
   "execution_count": 21,
   "metadata": {},
   "outputs": [
    {
     "data": {
      "text/html": [
       "<div>\n",
       "<style scoped>\n",
       "    .dataframe tbody tr th:only-of-type {\n",
       "        vertical-align: middle;\n",
       "    }\n",
       "\n",
       "    .dataframe tbody tr th {\n",
       "        vertical-align: top;\n",
       "    }\n",
       "\n",
       "    .dataframe thead th {\n",
       "        text-align: right;\n",
       "    }\n",
       "</style>\n",
       "<table border=\"1\" class=\"dataframe\">\n",
       "  <thead>\n",
       "    <tr style=\"text-align: right;\">\n",
       "      <th></th>\n",
       "      <th>time</th>\n",
       "      <th>cpu</th>\n",
       "    </tr>\n",
       "  </thead>\n",
       "  <tbody>\n",
       "    <tr>\n",
       "      <th>199995</th>\n",
       "      <td>2018-10-17 21:15:00</td>\n",
       "      <td>10.592498</td>\n",
       "    </tr>\n",
       "    <tr>\n",
       "      <th>199996</th>\n",
       "      <td>2018-10-17 21:16:00</td>\n",
       "      <td>9.903969</td>\n",
       "    </tr>\n",
       "    <tr>\n",
       "      <th>199997</th>\n",
       "      <td>2018-10-17 21:17:00</td>\n",
       "      <td>13.088288</td>\n",
       "    </tr>\n",
       "    <tr>\n",
       "      <th>199998</th>\n",
       "      <td>2018-10-17 21:18:00</td>\n",
       "      <td>10.944337</td>\n",
       "    </tr>\n",
       "    <tr>\n",
       "      <th>199999</th>\n",
       "      <td>2018-10-17 21:19:00</td>\n",
       "      <td>10.897731</td>\n",
       "    </tr>\n",
       "  </tbody>\n",
       "</table>\n",
       "</div>"
      ],
      "text/plain": [
       "                      time        cpu\n",
       "199995 2018-10-17 21:15:00  10.592498\n",
       "199996 2018-10-17 21:16:00   9.903969\n",
       "199997 2018-10-17 21:17:00  13.088288\n",
       "199998 2018-10-17 21:18:00  10.944337\n",
       "199999 2018-10-17 21:19:00  10.897731"
      ]
     },
     "execution_count": 21,
     "metadata": {},
     "output_type": "execute_result"
    }
   ],
   "source": [
    "df.tail()"
   ]
  },
  {
   "cell_type": "code",
   "execution_count": 22,
   "metadata": {},
   "outputs": [
    {
     "data": {
      "text/html": [
       "<div>\n",
       "<style scoped>\n",
       "    .dataframe tbody tr th:only-of-type {\n",
       "        vertical-align: middle;\n",
       "    }\n",
       "\n",
       "    .dataframe tbody tr th {\n",
       "        vertical-align: top;\n",
       "    }\n",
       "\n",
       "    .dataframe thead th {\n",
       "        text-align: right;\n",
       "    }\n",
       "</style>\n",
       "<table border=\"1\" class=\"dataframe\">\n",
       "  <thead>\n",
       "    <tr style=\"text-align: right;\">\n",
       "      <th></th>\n",
       "      <th>time</th>\n",
       "      <th>cpu</th>\n",
       "    </tr>\n",
       "  </thead>\n",
       "  <tbody>\n",
       "    <tr>\n",
       "      <th>480</th>\n",
       "      <td>2018-06-01 08:00:00</td>\n",
       "      <td>10.113996</td>\n",
       "    </tr>\n",
       "    <tr>\n",
       "      <th>481</th>\n",
       "      <td>2018-06-01 08:01:00</td>\n",
       "      <td>10.696812</td>\n",
       "    </tr>\n",
       "    <tr>\n",
       "      <th>482</th>\n",
       "      <td>2018-06-01 08:02:00</td>\n",
       "      <td>10.277769</td>\n",
       "    </tr>\n",
       "    <tr>\n",
       "      <th>483</th>\n",
       "      <td>2018-06-01 08:03:00</td>\n",
       "      <td>10.587783</td>\n",
       "    </tr>\n",
       "    <tr>\n",
       "      <th>484</th>\n",
       "      <td>2018-06-01 08:04:00</td>\n",
       "      <td>10.917802</td>\n",
       "    </tr>\n",
       "    <tr>\n",
       "      <th>485</th>\n",
       "      <td>2018-06-01 08:05:00</td>\n",
       "      <td>11.558310</td>\n",
       "    </tr>\n",
       "    <tr>\n",
       "      <th>486</th>\n",
       "      <td>2018-06-01 08:06:00</td>\n",
       "      <td>10.296089</td>\n",
       "    </tr>\n",
       "    <tr>\n",
       "      <th>487</th>\n",
       "      <td>2018-06-01 08:07:00</td>\n",
       "      <td>9.429775</td>\n",
       "    </tr>\n",
       "    <tr>\n",
       "      <th>488</th>\n",
       "      <td>2018-06-01 08:08:00</td>\n",
       "      <td>8.963102</td>\n",
       "    </tr>\n",
       "    <tr>\n",
       "      <th>489</th>\n",
       "      <td>2018-06-01 08:09:00</td>\n",
       "      <td>9.542813</td>\n",
       "    </tr>\n",
       "    <tr>\n",
       "      <th>490</th>\n",
       "      <td>2018-06-01 08:10:00</td>\n",
       "      <td>9.893321</td>\n",
       "    </tr>\n",
       "  </tbody>\n",
       "</table>\n",
       "</div>"
      ],
      "text/plain": [
       "                   time        cpu\n",
       "480 2018-06-01 08:00:00  10.113996\n",
       "481 2018-06-01 08:01:00  10.696812\n",
       "482 2018-06-01 08:02:00  10.277769\n",
       "483 2018-06-01 08:03:00  10.587783\n",
       "484 2018-06-01 08:04:00  10.917802\n",
       "485 2018-06-01 08:05:00  11.558310\n",
       "486 2018-06-01 08:06:00  10.296089\n",
       "487 2018-06-01 08:07:00   9.429775\n",
       "488 2018-06-01 08:08:00   8.963102\n",
       "489 2018-06-01 08:09:00   9.542813\n",
       "490 2018-06-01 08:10:00   9.893321"
      ]
     },
     "execution_count": 22,
     "metadata": {},
     "output_type": "execute_result"
    }
   ],
   "source": [
    "df[(df.time >= '2018-06-01 08:00:00') & (df.time <= '2018-06-01 08:10:00')]"
   ]
  },
  {
   "cell_type": "code",
   "execution_count": 23,
   "metadata": {},
   "outputs": [
    {
     "data": {
      "text/html": [
       "<div>\n",
       "<style scoped>\n",
       "    .dataframe tbody tr th:only-of-type {\n",
       "        vertical-align: middle;\n",
       "    }\n",
       "\n",
       "    .dataframe tbody tr th {\n",
       "        vertical-align: top;\n",
       "    }\n",
       "\n",
       "    .dataframe thead th {\n",
       "        text-align: right;\n",
       "    }\n",
       "</style>\n",
       "<table border=\"1\" class=\"dataframe\">\n",
       "  <thead>\n",
       "    <tr style=\"text-align: right;\">\n",
       "      <th></th>\n",
       "      <th>cpu</th>\n",
       "    </tr>\n",
       "    <tr>\n",
       "      <th>time</th>\n",
       "      <th></th>\n",
       "    </tr>\n",
       "  </thead>\n",
       "  <tbody>\n",
       "    <tr>\n",
       "      <th>2018-06-01 00:00:00</th>\n",
       "      <td>9.017956</td>\n",
       "    </tr>\n",
       "    <tr>\n",
       "      <th>2018-06-01 00:01:00</th>\n",
       "      <td>10.488462</td>\n",
       "    </tr>\n",
       "    <tr>\n",
       "      <th>2018-06-01 00:02:00</th>\n",
       "      <td>8.720478</td>\n",
       "    </tr>\n",
       "    <tr>\n",
       "      <th>2018-06-01 00:03:00</th>\n",
       "      <td>7.812511</td>\n",
       "    </tr>\n",
       "    <tr>\n",
       "      <th>2018-06-01 00:04:00</th>\n",
       "      <td>9.157938</td>\n",
       "    </tr>\n",
       "  </tbody>\n",
       "</table>\n",
       "</div>"
      ],
      "text/plain": [
       "                           cpu\n",
       "time                          \n",
       "2018-06-01 00:00:00   9.017956\n",
       "2018-06-01 00:01:00  10.488462\n",
       "2018-06-01 00:02:00   8.720478\n",
       "2018-06-01 00:03:00   7.812511\n",
       "2018-06-01 00:04:00   9.157938"
      ]
     },
     "execution_count": 23,
     "metadata": {},
     "output_type": "execute_result"
    }
   ],
   "source": [
    "df2 = df.set_index(\"time\")\n",
    "df2.head()"
   ]
  },
  {
   "cell_type": "code",
   "execution_count": 24,
   "metadata": {},
   "outputs": [
    {
     "data": {
      "text/html": [
       "<div>\n",
       "<style scoped>\n",
       "    .dataframe tbody tr th:only-of-type {\n",
       "        vertical-align: middle;\n",
       "    }\n",
       "\n",
       "    .dataframe tbody tr th {\n",
       "        vertical-align: top;\n",
       "    }\n",
       "\n",
       "    .dataframe thead th {\n",
       "        text-align: right;\n",
       "    }\n",
       "</style>\n",
       "<table border=\"1\" class=\"dataframe\">\n",
       "  <thead>\n",
       "    <tr style=\"text-align: right;\">\n",
       "      <th></th>\n",
       "      <th>time</th>\n",
       "      <th>cpu</th>\n",
       "    </tr>\n",
       "    <tr>\n",
       "      <th>time</th>\n",
       "      <th></th>\n",
       "      <th></th>\n",
       "    </tr>\n",
       "  </thead>\n",
       "  <tbody>\n",
       "    <tr>\n",
       "      <th>2018-06-01 00:00:00</th>\n",
       "      <td>2018-06-01 00:00:00</td>\n",
       "      <td>9.017956</td>\n",
       "    </tr>\n",
       "    <tr>\n",
       "      <th>2018-06-01 00:01:00</th>\n",
       "      <td>2018-06-01 00:01:00</td>\n",
       "      <td>10.488462</td>\n",
       "    </tr>\n",
       "    <tr>\n",
       "      <th>2018-06-01 00:02:00</th>\n",
       "      <td>2018-06-01 00:02:00</td>\n",
       "      <td>8.720478</td>\n",
       "    </tr>\n",
       "    <tr>\n",
       "      <th>2018-06-01 00:03:00</th>\n",
       "      <td>2018-06-01 00:03:00</td>\n",
       "      <td>7.812511</td>\n",
       "    </tr>\n",
       "    <tr>\n",
       "      <th>2018-06-01 00:04:00</th>\n",
       "      <td>2018-06-01 00:04:00</td>\n",
       "      <td>9.157938</td>\n",
       "    </tr>\n",
       "  </tbody>\n",
       "</table>\n",
       "</div>"
      ],
      "text/plain": [
       "                                   time        cpu\n",
       "time                                              \n",
       "2018-06-01 00:00:00 2018-06-01 00:00:00   9.017956\n",
       "2018-06-01 00:01:00 2018-06-01 00:01:00  10.488462\n",
       "2018-06-01 00:02:00 2018-06-01 00:02:00   8.720478\n",
       "2018-06-01 00:03:00 2018-06-01 00:03:00   7.812511\n",
       "2018-06-01 00:04:00 2018-06-01 00:04:00   9.157938"
      ]
     },
     "execution_count": 24,
     "metadata": {},
     "output_type": "execute_result"
    }
   ],
   "source": [
    "s = pd.to_datetime(df.time)\n",
    "s\n",
    "df.index = s\n",
    "df.head()"
   ]
  },
  {
   "cell_type": "code",
   "execution_count": 25,
   "metadata": {},
   "outputs": [
    {
     "data": {
      "text/html": [
       "<div>\n",
       "<style scoped>\n",
       "    .dataframe tbody tr th:only-of-type {\n",
       "        vertical-align: middle;\n",
       "    }\n",
       "\n",
       "    .dataframe tbody tr th {\n",
       "        vertical-align: top;\n",
       "    }\n",
       "\n",
       "    .dataframe thead th {\n",
       "        text-align: right;\n",
       "    }\n",
       "</style>\n",
       "<table border=\"1\" class=\"dataframe\">\n",
       "  <thead>\n",
       "    <tr style=\"text-align: right;\">\n",
       "      <th></th>\n",
       "      <th>cpu</th>\n",
       "    </tr>\n",
       "    <tr>\n",
       "      <th>time</th>\n",
       "      <th></th>\n",
       "    </tr>\n",
       "  </thead>\n",
       "  <tbody>\n",
       "    <tr>\n",
       "      <th>2018-06-01 00:00:00</th>\n",
       "      <td>9.017956</td>\n",
       "    </tr>\n",
       "    <tr>\n",
       "      <th>2018-06-01 00:01:00</th>\n",
       "      <td>10.488462</td>\n",
       "    </tr>\n",
       "    <tr>\n",
       "      <th>2018-06-01 00:02:00</th>\n",
       "      <td>8.720478</td>\n",
       "    </tr>\n",
       "    <tr>\n",
       "      <th>2018-06-01 00:03:00</th>\n",
       "      <td>7.812511</td>\n",
       "    </tr>\n",
       "    <tr>\n",
       "      <th>2018-06-01 00:04:00</th>\n",
       "      <td>9.157938</td>\n",
       "    </tr>\n",
       "  </tbody>\n",
       "</table>\n",
       "</div>"
      ],
      "text/plain": [
       "                           cpu\n",
       "time                          \n",
       "2018-06-01 00:00:00   9.017956\n",
       "2018-06-01 00:01:00  10.488462\n",
       "2018-06-01 00:02:00   8.720478\n",
       "2018-06-01 00:03:00   7.812511\n",
       "2018-06-01 00:04:00   9.157938"
      ]
     },
     "execution_count": 25,
     "metadata": {},
     "output_type": "execute_result"
    }
   ],
   "source": [
    "df = df.drop('time',axis=1)\n",
    "df.head()"
   ]
  },
  {
   "cell_type": "code",
   "execution_count": 26,
   "metadata": {},
   "outputs": [
    {
     "data": {
      "text/html": [
       "<div>\n",
       "<style scoped>\n",
       "    .dataframe tbody tr th:only-of-type {\n",
       "        vertical-align: middle;\n",
       "    }\n",
       "\n",
       "    .dataframe tbody tr th {\n",
       "        vertical-align: top;\n",
       "    }\n",
       "\n",
       "    .dataframe thead th {\n",
       "        text-align: right;\n",
       "    }\n",
       "</style>\n",
       "<table border=\"1\" class=\"dataframe\">\n",
       "  <thead>\n",
       "    <tr style=\"text-align: right;\">\n",
       "      <th></th>\n",
       "      <th>cpu</th>\n",
       "    </tr>\n",
       "    <tr>\n",
       "      <th>time</th>\n",
       "      <th></th>\n",
       "    </tr>\n",
       "  </thead>\n",
       "  <tbody>\n",
       "    <tr>\n",
       "      <th>2018-06-01 08:00:00</th>\n",
       "      <td>10.113996</td>\n",
       "    </tr>\n",
       "    <tr>\n",
       "      <th>2018-06-01 08:01:00</th>\n",
       "      <td>10.696812</td>\n",
       "    </tr>\n",
       "    <tr>\n",
       "      <th>2018-06-01 08:02:00</th>\n",
       "      <td>10.277769</td>\n",
       "    </tr>\n",
       "    <tr>\n",
       "      <th>2018-06-01 08:03:00</th>\n",
       "      <td>10.587783</td>\n",
       "    </tr>\n",
       "    <tr>\n",
       "      <th>2018-06-01 08:04:00</th>\n",
       "      <td>10.917802</td>\n",
       "    </tr>\n",
       "    <tr>\n",
       "      <th>2018-06-01 08:05:00</th>\n",
       "      <td>11.558310</td>\n",
       "    </tr>\n",
       "    <tr>\n",
       "      <th>2018-06-01 08:06:00</th>\n",
       "      <td>10.296089</td>\n",
       "    </tr>\n",
       "    <tr>\n",
       "      <th>2018-06-01 08:07:00</th>\n",
       "      <td>9.429775</td>\n",
       "    </tr>\n",
       "    <tr>\n",
       "      <th>2018-06-01 08:08:00</th>\n",
       "      <td>8.963102</td>\n",
       "    </tr>\n",
       "    <tr>\n",
       "      <th>2018-06-01 08:09:00</th>\n",
       "      <td>9.542813</td>\n",
       "    </tr>\n",
       "    <tr>\n",
       "      <th>2018-06-01 08:10:00</th>\n",
       "      <td>9.893321</td>\n",
       "    </tr>\n",
       "  </tbody>\n",
       "</table>\n",
       "</div>"
      ],
      "text/plain": [
       "                           cpu\n",
       "time                          \n",
       "2018-06-01 08:00:00  10.113996\n",
       "2018-06-01 08:01:00  10.696812\n",
       "2018-06-01 08:02:00  10.277769\n",
       "2018-06-01 08:03:00  10.587783\n",
       "2018-06-01 08:04:00  10.917802\n",
       "2018-06-01 08:05:00  11.558310\n",
       "2018-06-01 08:06:00  10.296089\n",
       "2018-06-01 08:07:00   9.429775\n",
       "2018-06-01 08:08:00   8.963102\n",
       "2018-06-01 08:09:00   9.542813\n",
       "2018-06-01 08:10:00   9.893321"
      ]
     },
     "execution_count": 26,
     "metadata": {},
     "output_type": "execute_result"
    }
   ],
   "source": [
    "df['2018-06-01 08:00:00':'2018-06-01 08:10:00']"
   ]
  },
  {
   "cell_type": "code",
   "execution_count": 27,
   "metadata": {},
   "outputs": [
    {
     "data": {
      "text/html": [
       "<div>\n",
       "<style scoped>\n",
       "    .dataframe tbody tr th:only-of-type {\n",
       "        vertical-align: middle;\n",
       "    }\n",
       "\n",
       "    .dataframe tbody tr th {\n",
       "        vertical-align: top;\n",
       "    }\n",
       "\n",
       "    .dataframe thead th {\n",
       "        text-align: right;\n",
       "    }\n",
       "</style>\n",
       "<table border=\"1\" class=\"dataframe\">\n",
       "  <thead>\n",
       "    <tr style=\"text-align: right;\">\n",
       "      <th></th>\n",
       "      <th>cpu</th>\n",
       "    </tr>\n",
       "    <tr>\n",
       "      <th>time</th>\n",
       "      <th></th>\n",
       "    </tr>\n",
       "  </thead>\n",
       "  <tbody>\n",
       "    <tr>\n",
       "      <th>2018-06-01 00:00:00</th>\n",
       "      <td>9.017956</td>\n",
       "    </tr>\n",
       "    <tr>\n",
       "      <th>2018-06-01 00:01:00</th>\n",
       "      <td>10.488462</td>\n",
       "    </tr>\n",
       "    <tr>\n",
       "      <th>2018-06-01 00:02:00</th>\n",
       "      <td>8.720478</td>\n",
       "    </tr>\n",
       "    <tr>\n",
       "      <th>2018-06-01 00:03:00</th>\n",
       "      <td>7.812511</td>\n",
       "    </tr>\n",
       "    <tr>\n",
       "      <th>2018-06-01 00:04:00</th>\n",
       "      <td>9.157938</td>\n",
       "    </tr>\n",
       "  </tbody>\n",
       "</table>\n",
       "</div>"
      ],
      "text/plain": [
       "                           cpu\n",
       "time                          \n",
       "2018-06-01 00:00:00   9.017956\n",
       "2018-06-01 00:01:00  10.488462\n",
       "2018-06-01 00:02:00   8.720478\n",
       "2018-06-01 00:03:00   7.812511\n",
       "2018-06-01 00:04:00   9.157938"
      ]
     },
     "execution_count": 27,
     "metadata": {},
     "output_type": "execute_result"
    }
   ],
   "source": [
    "df2  = df['2018-06-01']\n",
    "df2.head()"
   ]
  },
  {
   "cell_type": "code",
   "execution_count": 28,
   "metadata": {},
   "outputs": [
    {
     "data": {
      "text/html": [
       "<div>\n",
       "<style scoped>\n",
       "    .dataframe tbody tr th:only-of-type {\n",
       "        vertical-align: middle;\n",
       "    }\n",
       "\n",
       "    .dataframe tbody tr th {\n",
       "        vertical-align: top;\n",
       "    }\n",
       "\n",
       "    .dataframe thead th {\n",
       "        text-align: right;\n",
       "    }\n",
       "</style>\n",
       "<table border=\"1\" class=\"dataframe\">\n",
       "  <thead>\n",
       "    <tr style=\"text-align: right;\">\n",
       "      <th></th>\n",
       "      <th>cpu</th>\n",
       "    </tr>\n",
       "    <tr>\n",
       "      <th>time</th>\n",
       "      <th></th>\n",
       "    </tr>\n",
       "  </thead>\n",
       "  <tbody>\n",
       "    <tr>\n",
       "      <th>2018-06-01 23:55:00</th>\n",
       "      <td>9.648916</td>\n",
       "    </tr>\n",
       "    <tr>\n",
       "      <th>2018-06-01 23:56:00</th>\n",
       "      <td>11.167310</td>\n",
       "    </tr>\n",
       "    <tr>\n",
       "      <th>2018-06-01 23:57:00</th>\n",
       "      <td>8.100609</td>\n",
       "    </tr>\n",
       "    <tr>\n",
       "      <th>2018-06-01 23:58:00</th>\n",
       "      <td>11.001139</td>\n",
       "    </tr>\n",
       "    <tr>\n",
       "      <th>2018-06-01 23:59:00</th>\n",
       "      <td>10.761139</td>\n",
       "    </tr>\n",
       "  </tbody>\n",
       "</table>\n",
       "</div>"
      ],
      "text/plain": [
       "                           cpu\n",
       "time                          \n",
       "2018-06-01 23:55:00   9.648916\n",
       "2018-06-01 23:56:00  11.167310\n",
       "2018-06-01 23:57:00   8.100609\n",
       "2018-06-01 23:58:00  11.001139\n",
       "2018-06-01 23:59:00  10.761139"
      ]
     },
     "execution_count": 28,
     "metadata": {},
     "output_type": "execute_result"
    }
   ],
   "source": [
    "df2.tail()"
   ]
  },
  {
   "cell_type": "code",
   "execution_count": 29,
   "metadata": {},
   "outputs": [
    {
     "name": "stdout",
     "output_type": "stream",
     "text": [
      "                  cpu\n",
      "2018-06-01   9.975384\n",
      "2018-06-02  10.039391\n",
      "2018-06-03  10.024485\n",
      "2018-06-04  10.002240\n",
      "2018-06-05  10.048614\n",
      "                  cpu\n",
      "2018-10-13  10.001288\n",
      "2018-10-14  10.010187\n",
      "2018-10-15  10.024700\n",
      "2018-10-16  10.003553\n",
      "2018-10-17  10.018173\n"
     ]
    }
   ],
   "source": [
    "df2 = df.groupby(df.index.date).mean()\n",
    "print(df2.head())\n",
    "print(df2.tail())"
   ]
  },
  {
   "cell_type": "code",
   "execution_count": 30,
   "metadata": {},
   "outputs": [
    {
     "data": {
      "text/html": [
       "<div>\n",
       "<style scoped>\n",
       "    .dataframe tbody tr th:only-of-type {\n",
       "        vertical-align: middle;\n",
       "    }\n",
       "\n",
       "    .dataframe tbody tr th {\n",
       "        vertical-align: top;\n",
       "    }\n",
       "\n",
       "    .dataframe thead th {\n",
       "        text-align: right;\n",
       "    }\n",
       "</style>\n",
       "<table border=\"1\" class=\"dataframe\">\n",
       "  <thead>\n",
       "    <tr style=\"text-align: right;\">\n",
       "      <th></th>\n",
       "      <th>cpu</th>\n",
       "    </tr>\n",
       "    <tr>\n",
       "      <th>time</th>\n",
       "      <th></th>\n",
       "    </tr>\n",
       "  </thead>\n",
       "  <tbody>\n",
       "    <tr>\n",
       "      <th>2018-06-01 00:00:00</th>\n",
       "      <td>10.488462</td>\n",
       "    </tr>\n",
       "    <tr>\n",
       "      <th>2018-06-01 00:05:00</th>\n",
       "      <td>10.641883</td>\n",
       "    </tr>\n",
       "    <tr>\n",
       "      <th>2018-06-01 00:10:00</th>\n",
       "      <td>10.943509</td>\n",
       "    </tr>\n",
       "    <tr>\n",
       "      <th>2018-06-01 00:15:00</th>\n",
       "      <td>11.958824</td>\n",
       "    </tr>\n",
       "    <tr>\n",
       "      <th>2018-06-01 00:20:00</th>\n",
       "      <td>11.017100</td>\n",
       "    </tr>\n",
       "  </tbody>\n",
       "</table>\n",
       "</div>"
      ],
      "text/plain": [
       "                           cpu\n",
       "time                          \n",
       "2018-06-01 00:00:00  10.488462\n",
       "2018-06-01 00:05:00  10.641883\n",
       "2018-06-01 00:10:00  10.943509\n",
       "2018-06-01 00:15:00  11.958824\n",
       "2018-06-01 00:20:00  11.017100"
      ]
     },
     "execution_count": 30,
     "metadata": {},
     "output_type": "execute_result"
    }
   ],
   "source": [
    "df2 = df.resample('5T').max()\n",
    "df2.head()"
   ]
  },
  {
   "cell_type": "code",
   "execution_count": 31,
   "metadata": {},
   "outputs": [
    {
     "data": {
      "text/html": [
       "<div>\n",
       "<style scoped>\n",
       "    .dataframe tbody tr th:only-of-type {\n",
       "        vertical-align: middle;\n",
       "    }\n",
       "\n",
       "    .dataframe tbody tr th {\n",
       "        vertical-align: top;\n",
       "    }\n",
       "\n",
       "    .dataframe thead th {\n",
       "        text-align: right;\n",
       "    }\n",
       "</style>\n",
       "<table border=\"1\" class=\"dataframe\">\n",
       "  <thead>\n",
       "    <tr style=\"text-align: right;\">\n",
       "      <th></th>\n",
       "      <th>cpu</th>\n",
       "    </tr>\n",
       "    <tr>\n",
       "      <th>time</th>\n",
       "      <th></th>\n",
       "    </tr>\n",
       "  </thead>\n",
       "  <tbody>\n",
       "    <tr>\n",
       "      <th>2018-10-17 20:55:00</th>\n",
       "      <td>11.306782</td>\n",
       "    </tr>\n",
       "    <tr>\n",
       "      <th>2018-10-17 21:00:00</th>\n",
       "      <td>11.071666</td>\n",
       "    </tr>\n",
       "    <tr>\n",
       "      <th>2018-10-17 21:05:00</th>\n",
       "      <td>11.300958</td>\n",
       "    </tr>\n",
       "    <tr>\n",
       "      <th>2018-10-17 21:10:00</th>\n",
       "      <td>11.104370</td>\n",
       "    </tr>\n",
       "    <tr>\n",
       "      <th>2018-10-17 21:15:00</th>\n",
       "      <td>13.088288</td>\n",
       "    </tr>\n",
       "  </tbody>\n",
       "</table>\n",
       "</div>"
      ],
      "text/plain": [
       "                           cpu\n",
       "time                          \n",
       "2018-10-17 20:55:00  11.306782\n",
       "2018-10-17 21:00:00  11.071666\n",
       "2018-10-17 21:05:00  11.300958\n",
       "2018-10-17 21:10:00  11.104370\n",
       "2018-10-17 21:15:00  13.088288"
      ]
     },
     "execution_count": 31,
     "metadata": {},
     "output_type": "execute_result"
    }
   ],
   "source": [
    "df2.tail()"
   ]
  },
  {
   "cell_type": "code",
   "execution_count": null,
   "metadata": {},
   "outputs": [],
   "source": []
  }
 ],
 "metadata": {
  "kernelspec": {
   "display_name": "Python 3",
   "language": "python",
   "name": "python3"
  },
  "language_info": {
   "codemirror_mode": {
    "name": "ipython",
    "version": 3
   },
   "file_extension": ".py",
   "mimetype": "text/x-python",
   "name": "python",
   "nbconvert_exporter": "python",
   "pygments_lexer": "ipython3",
   "version": "3.7.2rc1"
  }
 },
 "nbformat": 4,
 "nbformat_minor": 2
}
