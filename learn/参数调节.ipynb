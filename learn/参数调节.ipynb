{
 "cells": [
  {
   "cell_type": "code",
   "execution_count": 1,
   "metadata": {},
   "outputs": [],
   "source": [
    "import numpy as np\n",
    "import matplotlib.pyplot as plt\n",
    "import pandas as pd"
   ]
  },
  {
   "cell_type": "code",
   "execution_count": 2,
   "metadata": {},
   "outputs": [],
   "source": [
    "X = np.loadtxt('ML/x.txt')\n",
    "y = np.loadtxt('Ml/y.txt')"
   ]
  },
  {
   "cell_type": "code",
   "execution_count": 3,
   "metadata": {},
   "outputs": [],
   "source": [
    "from ML.model_selection import train_test_split\n",
    "X_train,X_test,y_train,y_test = train_test_split(X,y,test_size=0.2,seed=500)"
   ]
  },
  {
   "cell_type": "code",
   "execution_count": 4,
   "metadata": {},
   "outputs": [],
   "source": [
    "from ML.knn import kNN_classify\n",
    "y_predict = kNN_classify(X_train,y_train,X_test)"
   ]
  },
  {
   "cell_type": "code",
   "execution_count": 5,
   "metadata": {},
   "outputs": [],
   "source": [
    "from ML.metrics import accuracy_score"
   ]
  },
  {
   "cell_type": "code",
   "execution_count": 6,
   "metadata": {},
   "outputs": [
    {
     "data": {
      "text/plain": [
       "0.9666666666666667"
      ]
     },
     "execution_count": 6,
     "metadata": {},
     "output_type": "execute_result"
    }
   ],
   "source": [
    "accuracy_score(y_test,y_predict)"
   ]
  },
  {
   "cell_type": "code",
   "execution_count": 7,
   "metadata": {},
   "outputs": [
    {
     "name": "stdout",
     "output_type": "stream",
     "text": [
      "best_k 1\n",
      "best_score 0.9666666666666667\n"
     ]
    }
   ],
   "source": [
    "best_score = 0\n",
    "best_k = 0\n",
    "for k in range(1,11):\n",
    "    y_predict = kNN_classify(X_train,y_train,X_test,k=k)\n",
    "    score = accuracy_score(y_test,y_predict)\n",
    "    if (score>best_score):\n",
    "        best_score = score\n",
    "        best_k = k\n",
    "print('best_k',best_k)\n",
    "print('best_score',best_score)"
   ]
  },
  {
   "cell_type": "code",
   "execution_count": 8,
   "metadata": {},
   "outputs": [
    {
     "name": "stdout",
     "output_type": "stream",
     "text": [
      "best_k 13\n",
      "best_score 1.0\n"
     ]
    }
   ],
   "source": [
    "best_score = 0\n",
    "best_k = 0\n",
    "for k in range(1,21):\n",
    "    y_predict = kNN_classify(X_train,y_train,X_test,k=k)\n",
    "    score = accuracy_score(y_test,y_predict)\n",
    "    if (score>best_score):\n",
    "        best_score = score\n",
    "        best_k = k\n",
    "print('best_k',best_k)\n",
    "print('best_score',best_score)"
   ]
  },
  {
   "cell_type": "code",
   "execution_count": 12,
   "metadata": {},
   "outputs": [
    {
     "name": "stdout",
     "output_type": "stream",
     "text": [
      "best_k 13\n",
      "best_p 1\n",
      "best_score 1.0\n"
     ]
    }
   ],
   "source": [
    "best_score = 0\n",
    "best_k = 0\n",
    "best_p = 0\n",
    "for k in range(1,21):\n",
    "    for p in range(1,10):\n",
    "        y_predict = kNN_classify(X_train,y_train,X_test,k=k)\n",
    "        score = accuracy_score(y_test,y_predict)\n",
    "        if (score>best_score):\n",
    "            best_score = score\n",
    "            best_k = k\n",
    "            best_p = p\n",
    "print('best_k',best_k)\n",
    "print('best_p',best_p)\n",
    "print('best_score',best_score)"
   ]
  }
 ],
 "metadata": {
  "kernelspec": {
   "display_name": "Python 3",
   "language": "python",
   "name": "python3"
  },
  "language_info": {
   "codemirror_mode": {
    "name": "ipython",
    "version": 3
   },
   "file_extension": ".py",
   "mimetype": "text/x-python",
   "name": "python",
   "nbconvert_exporter": "python",
   "pygments_lexer": "ipython3",
   "version": "3.7.2rc1"
  }
 },
 "nbformat": 4,
 "nbformat_minor": 2
}
